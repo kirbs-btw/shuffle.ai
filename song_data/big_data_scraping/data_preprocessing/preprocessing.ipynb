{
 "cells": [
  {
   "cell_type": "markdown",
   "metadata": {},
   "source": [
    "# goal strukture \n",
    "\n",
    "## phase one: \n",
    ">track_name, track_artist, id, lyrics (empty)\n",
    "\n",
    "## phase two: \n",
    ">track_name, track_artist, lyrics, id\n",
    "\n",
    "## phase three: \n",
    ">track_name, track_artist, lyrics, embedding, id\n"
   ]
  },
  {
   "cell_type": "markdown",
   "metadata": {},
   "source": [
    "# Phase one preprocessing"
   ]
  },
  {
   "cell_type": "code",
   "execution_count": 5,
   "metadata": {},
   "outputs": [
    {
     "name": "stdout",
     "output_type": "stream",
     "text": [
      "346876\n"
     ]
    },
    {
     "name": "stderr",
     "output_type": "stream",
     "text": [
      "C:\\Users\\lipka\\AppData\\Local\\Temp\\ipykernel_4112\\2546923147.py:17: SettingWithCopyWarning: \n",
      "A value is trying to be set on a copy of a slice from a DataFrame.\n",
      "Try using .loc[row_indexer,col_indexer] = value instead\n",
      "\n",
      "See the caveats in the documentation: https://pandas.pydata.org/pandas-docs/stable/user_guide/indexing.html#returning-a-view-versus-a-copy\n",
      "  df_SS_reduced[\"track_lyrics\"] = None\n",
      "C:\\Users\\lipka\\AppData\\Local\\Temp\\ipykernel_4112\\2546923147.py:36: SettingWithCopyWarning: \n",
      "A value is trying to be set on a copy of a slice from a DataFrame.\n",
      "Try using .loc[row_indexer,col_indexer] = value instead\n",
      "\n",
      "See the caveats in the documentation: https://pandas.pydata.org/pandas-docs/stable/user_guide/indexing.html#returning-a-view-versus-a-copy\n",
      "  df_clean['track_id'] = [generate_uuid() for _ in range(len(df_clean))]\n"
     ]
    }
   ],
   "source": [
    "import pandas as pd \n",
    "import numpy as np\n",
    "\n",
    "# importing the raw data sets \n",
    "\n",
    "df_MSSS = pd.read_csv(\"../raw_data/Most_Streamed_Spotify_Songs_2024.csv\", encoding='latin1')\n",
    "df_SMSD = pd.read_csv(\"../raw_data/spotify_millsongdata.csv\")\n",
    "df_SS = pd.read_csv(\"../raw_data/spotify_songs.csv\")\n",
    "\n",
    "# cleaning them to only the two rows we care about \n",
    "\n",
    "df_MSSS_reduced = df_MSSS[[\"Artist\", \"Track\"]].rename(columns={\"Artist\": \"track_artist\", \"Track\": \"track_name\"})\n",
    "df_MSSS_reduced[\"track_lyrics\"] = None\n",
    "\n",
    "df_SMSD_reduced = df_SMSD[[\"artist\", \"song\", \"text\"]].rename(columns={\"artist\": \"track_artist\", \"song\": \"track_name\", \"text\": \"track_lyrics\"}) # also has the text so here we are goingt to put the text from the stuff here already\n",
    "df_SS_reduced = df_SS[[\"track_name\", \"track_artist\"]]\n",
    "df_SS_reduced[\"track_lyrics\"] = None\n",
    "\n",
    "\n",
    "# combine dfs \n",
    "\n",
    "df_base = df_MSSS_reduced\n",
    "df_base = pd.concat([df_base, df_SMSD_reduced], ignore_index=True)\n",
    "df_base = pd.concat([df_base, df_SS_reduced], ignore_index=True)\n",
    "\n",
    "# del duplicates \n",
    "df_clean = df_base.drop_duplicates(subset=['track_artist', 'track_name'])\n",
    "\n",
    "# adding ids\n",
    "\n",
    "import uuid\n",
    "\n",
    "def generate_uuid():\n",
    "    return str(uuid.uuid4())\n",
    "\n",
    "df_clean['track_id'] = [generate_uuid() for _ in range(len(df_clean))]\n",
    "\n",
    "df = df_clean\n",
    "\n",
    "\n",
    "# about 86000 rows "
   ]
  },
  {
   "cell_type": "markdown",
   "metadata": {},
   "source": [
    "# Phase two preprocessing"
   ]
  },
  {
   "cell_type": "code",
   "execution_count": 5,
   "metadata": {},
   "outputs": [
    {
     "name": "stdout",
     "output_type": "stream",
     "text": [
      "{'meta': {'status': 200}, 'response': {'hits': [{'highlights': [], 'index': 'song', 'type': 'song', 'result': {'annotation_count': 3, 'api_path': '/songs/6393305', 'artist_names': 'GEHRMAN', 'full_title': 'HOW I LIKE THAT by\\xa0GEHRMAN', 'header_image_thumbnail_url': 'https://images.genius.com/5bee3ca2140a7aae0da67485dc84ca78.300x300x1.jpg', 'header_image_url': 'https://images.genius.com/5bee3ca2140a7aae0da67485dc84ca78.1000x1000x1.jpg', 'id': 6393305, 'lyrics_owner_id': 11692978, 'lyrics_state': 'complete', 'path': '/Gehrman-how-i-like-that-lyrics', 'primary_artist_names': 'GEHRMAN', 'pyongs_count': None, 'relationships_index_url': 'https://genius.com/Gehrman-how-i-like-that-sample', 'release_date_components': {'year': 2020, 'month': 5, 'day': 19}, 'release_date_for_display': 'May 19, 2020', 'release_date_with_abbreviated_month_for_display': 'May. 19, 2020', 'song_art_image_thumbnail_url': 'https://images.genius.com/5bee3ca2140a7aae0da67485dc84ca78.300x300x1.jpg', 'song_art_image_url': 'https://images.genius.com/5bee3ca2140a7aae0da67485dc84ca78.1000x1000x1.jpg', 'stats': {'unreviewed_annotations': 3, 'hot': False}, 'title': 'HOW I LIKE THAT', 'title_with_featured': 'HOW I LIKE THAT', 'url': 'https://genius.com/Gehrman-how-i-like-that-lyrics', 'featured_artists': [], 'primary_artist': {'api_path': '/artists/1773007', 'header_image_url': 'https://images.genius.com/ea81b1eed1620e60f4c37405a990f67f.1000x210x1.jpg', 'id': 1773007, 'image_url': 'https://images.genius.com/df1a64b8b318fb05272eba70edee37c9.400x400x1.jpg', 'is_meme_verified': False, 'is_verified': False, 'name': 'GEHRMAN', 'url': 'https://genius.com/artists/Gehrman'}, 'primary_artists': [{'api_path': '/artists/1773007', 'header_image_url': 'https://images.genius.com/ea81b1eed1620e60f4c37405a990f67f.1000x210x1.jpg', 'id': 1773007, 'image_url': 'https://images.genius.com/df1a64b8b318fb05272eba70edee37c9.400x400x1.jpg', 'is_meme_verified': False, 'is_verified': False, 'name': 'GEHRMAN', 'url': 'https://genius.com/artists/Gehrman'}]}}, {'highlights': [], 'index': 'song', 'type': 'song', 'result': {'annotation_count': 128, 'api_path': '/songs/5046660', 'artist_names': 'Genius', 'full_title': 'Ranking Page: 50 Best Albums & 50 Best Songs of 2019 by\\xa0Genius', 'header_image_thumbnail_url': 'https://images.genius.com/eb834304eecbb96bdcd4ed410a6da5dc.300x300x1.jpg', 'header_image_url': 'https://images.genius.com/eb834304eecbb96bdcd4ed410a6da5dc.1000x1000x1.jpg', 'id': 5046660, 'lyrics_owner_id': 756535, 'lyrics_state': 'complete', 'path': '/Genius-ranking-page-50-best-albums-and-50-best-songs-of-2019-annotated', 'primary_artist_names': 'Genius', 'pyongs_count': 3, 'relationships_index_url': 'https://genius.com/Genius-ranking-page-50-best-albums-and-50-best-songs-of-2019-sample', 'release_date_components': {'year': 2019, 'month': 11, 'day': 22}, 'release_date_for_display': 'November 22, 2019', 'release_date_with_abbreviated_month_for_display': 'Nov. 22, 2019', 'song_art_image_thumbnail_url': 'https://images.genius.com/eb834304eecbb96bdcd4ed410a6da5dc.300x300x1.jpg', 'song_art_image_url': 'https://images.genius.com/eb834304eecbb96bdcd4ed410a6da5dc.1000x1000x1.jpg', 'stats': {'unreviewed_annotations': 2, 'hot': False, 'pageviews': 6218}, 'title': 'Ranking Page: 50 Best Albums & 50 Best Songs of 2019', 'title_with_featured': 'Ranking Page: 50 Best Albums & 50 Best Songs of 2019', 'url': 'https://genius.com/Genius-ranking-page-50-best-albums-and-50-best-songs-of-2019-annotated', 'featured_artists': [], 'primary_artist': {'api_path': '/artists/204611', 'header_image_url': 'https://images.genius.com/822a5f872a1fcfe377695dc0046c6bc6.900x176x1.jpg', 'id': 204611, 'image_url': 'https://images.genius.com/0ca83e3130e1303a7f78ba351e3091cd.1000x1000x1.png', 'is_meme_verified': True, 'is_verified': True, 'name': 'Genius', 'url': 'https://genius.com/artists/Genius', 'iq': 79457}, 'primary_artists': [{'api_path': '/artists/204611', 'header_image_url': 'https://images.genius.com/822a5f872a1fcfe377695dc0046c6bc6.900x176x1.jpg', 'id': 204611, 'image_url': 'https://images.genius.com/0ca83e3130e1303a7f78ba351e3091cd.1000x1000x1.png', 'is_meme_verified': True, 'is_verified': True, 'name': 'Genius', 'url': 'https://genius.com/artists/Genius', 'iq': 79457}]}}, {'highlights': [], 'index': 'song', 'type': 'song', 'result': {'annotation_count': 0, 'api_path': '/songs/5100744', 'artist_names': 'Spotify', 'full_title': 'Top Tracks of 2019 by\\xa0Spotify', 'header_image_thumbnail_url': 'https://images.genius.com/d02c65df8189afb28da921caa415385c.300x157x1.jpg', 'header_image_url': 'https://images.genius.com/d02c65df8189afb28da921caa415385c.1000x523x1.jpg', 'id': 5100744, 'lyrics_owner_id': 93685, 'lyrics_state': 'complete', 'path': '/Spotify-top-tracks-of-2019-annotated', 'primary_artist_names': 'Spotify', 'pyongs_count': None, 'relationships_index_url': 'https://genius.com/Spotify-top-tracks-of-2019-sample', 'release_date_components': {'year': 2019, 'month': 12, 'day': None}, 'release_date_for_display': 'December 2019', 'release_date_with_abbreviated_month_for_display': 'Dec. 2019', 'song_art_image_thumbnail_url': 'https://images.genius.com/6470c0adadf6d91b62333ed1550f0095.300x300x1.jpg', 'song_art_image_url': 'https://images.genius.com/6470c0adadf6d91b62333ed1550f0095.300x300x1.jpg', 'stats': {'unreviewed_annotations': 0, 'hot': False}, 'title': 'Top Tracks of 2019', 'title_with_featured': 'Top Tracks of 2019', 'url': 'https://genius.com/Spotify-top-tracks-of-2019-annotated', 'featured_artists': [], 'primary_artist': {'api_path': '/artists/69342', 'header_image_url': 'https://images.genius.com/c42dcc86def76a719ea2c42d79ef2cf3.1000x562x1.jpg', 'id': 69342, 'image_url': 'https://images.genius.com/b6038b65a9a1d4c3adfcb4d4c4f5c67b.512x512x1.png', 'is_meme_verified': False, 'is_verified': False, 'name': 'Spotify', 'url': 'https://genius.com/artists/Spotify'}, 'primary_artists': [{'api_path': '/artists/69342', 'header_image_url': 'https://images.genius.com/c42dcc86def76a719ea2c42d79ef2cf3.1000x562x1.jpg', 'id': 69342, 'image_url': 'https://images.genius.com/b6038b65a9a1d4c3adfcb4d4c4f5c67b.512x512x1.png', 'is_meme_verified': False, 'is_verified': False, 'name': 'Spotify', 'url': 'https://genius.com/artists/Spotify'}]}}, {'highlights': [], 'index': 'song', 'type': 'song', 'result': {'annotation_count': 1, 'api_path': '/songs/5100821', 'artist_names': 'Spotify', 'full_title': 'Best Pop Songs of 2019 by\\xa0Spotify', 'header_image_thumbnail_url': 'https://images.genius.com/d02c65df8189afb28da921caa415385c.300x157x1.jpg', 'header_image_url': 'https://images.genius.com/d02c65df8189afb28da921caa415385c.1000x523x1.jpg', 'id': 5100821, 'lyrics_owner_id': 93685, 'lyrics_state': 'complete', 'path': '/Spotify-best-pop-songs-of-2019-annotated', 'primary_artist_names': 'Spotify', 'pyongs_count': None, 'relationships_index_url': 'https://genius.com/Spotify-best-pop-songs-of-2019-sample', 'release_date_components': {'year': 2019, 'month': 12, 'day': None}, 'release_date_for_display': 'December 2019', 'release_date_with_abbreviated_month_for_display': 'Dec. 2019', 'song_art_image_thumbnail_url': 'https://images.genius.com/72c59721262d4b2f04cd683d53865552.300x300x1.jpg', 'song_art_image_url': 'https://images.genius.com/72c59721262d4b2f04cd683d53865552.300x300x1.jpg', 'stats': {'unreviewed_annotations': 1, 'hot': False}, 'title': 'Best Pop Songs of 2019', 'title_with_featured': 'Best Pop Songs of 2019', 'url': 'https://genius.com/Spotify-best-pop-songs-of-2019-annotated', 'featured_artists': [], 'primary_artist': {'api_path': '/artists/69342', 'header_image_url': 'https://images.genius.com/c42dcc86def76a719ea2c42d79ef2cf3.1000x562x1.jpg', 'id': 69342, 'image_url': 'https://images.genius.com/b6038b65a9a1d4c3adfcb4d4c4f5c67b.512x512x1.png', 'is_meme_verified': False, 'is_verified': False, 'name': 'Spotify', 'url': 'https://genius.com/artists/Spotify'}, 'primary_artists': [{'api_path': '/artists/69342', 'header_image_url': 'https://images.genius.com/c42dcc86def76a719ea2c42d79ef2cf3.1000x562x1.jpg', 'id': 69342, 'image_url': 'https://images.genius.com/b6038b65a9a1d4c3adfcb4d4c4f5c67b.512x512x1.png', 'is_meme_verified': False, 'is_verified': False, 'name': 'Spotify', 'url': 'https://genius.com/artists/Spotify'}]}}, {'highlights': [], 'index': 'song', 'type': 'song', 'result': {'annotation_count': 1, 'api_path': '/songs/7505366', 'artist_names': 'Apple Music', 'full_title': 'Pop Hits: 2019 by\\xa0Apple\\xa0Music', 'header_image_thumbnail_url': 'https://images.genius.com/28de0ed4d57b4bbe70f3e3c4611b13af.300x300x1.png', 'header_image_url': 'https://images.genius.com/28de0ed4d57b4bbe70f3e3c4611b13af.1000x1000x1.png', 'id': 7505366, 'lyrics_owner_id': 15246942, 'lyrics_state': 'complete', 'path': '/Apple-music-pop-hits-2019-lyrics', 'primary_artist_names': 'Apple Music', 'pyongs_count': None, 'relationships_index_url': 'https://genius.com/Apple-music-pop-hits-2019-sample', 'release_date_components': {'year': 2019, 'month': None, 'day': None}, 'release_date_for_display': '2019', 'release_date_with_abbreviated_month_for_display': '2019', 'song_art_image_thumbnail_url': 'https://images.genius.com/28de0ed4d57b4bbe70f3e3c4611b13af.300x300x1.png', 'song_art_image_url': 'https://images.genius.com/28de0ed4d57b4bbe70f3e3c4611b13af.1000x1000x1.png', 'stats': {'unreviewed_annotations': 1, 'hot': False}, 'title': 'Pop Hits: 2019', 'title_with_featured': 'Pop Hits: 2019', 'url': 'https://genius.com/Apple-music-pop-hits-2019-lyrics', 'featured_artists': [], 'primary_artist': {'api_path': '/artists/654915', 'header_image_url': 'https://images.genius.com/35d67f7bc8efbc6f30bd5986730f97aa.1000x562x1.jpg', 'id': 654915, 'image_url': 'https://images.genius.com/28de0ed4d57b4bbe70f3e3c4611b13af.1000x1000x1.png', 'is_meme_verified': False, 'is_verified': False, 'name': 'Apple Music', 'url': 'https://genius.com/artists/Apple-music'}, 'primary_artists': [{'api_path': '/artists/654915', 'header_image_url': 'https://images.genius.com/35d67f7bc8efbc6f30bd5986730f97aa.1000x562x1.jpg', 'id': 654915, 'image_url': 'https://images.genius.com/28de0ed4d57b4bbe70f3e3c4611b13af.1000x1000x1.png', 'is_meme_verified': False, 'is_verified': False, 'name': 'Apple Music', 'url': 'https://genius.com/artists/Apple-music'}]}}, {'highlights': [], 'index': 'song', 'type': 'song', 'result': {'annotation_count': 0, 'api_path': '/songs/5291128', 'artist_names': 'Triston C.', 'full_title': 'ThE EnTiRe MiXtApE by\\xa0Triston\\xa0C.', 'header_image_thumbnail_url': 'https://assets.genius.com/images/default_cover_image.png?1725996374', 'header_image_url': 'https://assets.genius.com/images/default_cover_image.png?1725996374', 'id': 5291128, 'lyrics_owner_id': 8397013, 'lyrics_state': 'complete', 'path': '/Triston-c-the-entire-mixtape-annotated', 'primary_artist_names': 'Triston C.', 'pyongs_count': None, 'relationships_index_url': 'https://genius.com/Triston-c-the-entire-mixtape-sample', 'release_date_components': {'year': 2020, 'month': 1, 'day': 1}, 'release_date_for_display': 'January 1, 2020', 'release_date_with_abbreviated_month_for_display': 'Jan. 1, 2020', 'song_art_image_thumbnail_url': 'https://assets.genius.com/images/default_cover_image.png?1725996374', 'song_art_image_url': 'https://assets.genius.com/images/default_cover_image.png?1725996374', 'stats': {'unreviewed_annotations': 0, 'hot': False}, 'title': 'ThE EnTiRe MiXtApE', 'title_with_featured': 'ThE EnTiRe MiXtApE', 'url': 'https://genius.com/Triston-c-the-entire-mixtape-annotated', 'featured_artists': [], 'primary_artist': {'api_path': '/artists/2122594', 'header_image_url': 'https://assets.genius.com/images/default_avatar_300.png?1725996374', 'id': 2122594, 'image_url': 'https://assets.genius.com/images/default_avatar_300.png?1725996374', 'is_meme_verified': False, 'is_verified': False, 'name': 'Triston C.', 'url': 'https://genius.com/artists/Triston-c'}, 'primary_artists': [{'api_path': '/artists/2122594', 'header_image_url': 'https://assets.genius.com/images/default_avatar_300.png?1725996374', 'id': 2122594, 'image_url': 'https://assets.genius.com/images/default_avatar_300.png?1725996374', 'is_meme_verified': False, 'is_verified': False, 'name': 'Triston C.', 'url': 'https://genius.com/artists/Triston-c'}]}}]}}\n",
      "4 - FOUND - Title: billy ellish - Artist: bad guy\n",
      "Ion like to talk\n",
      "Yeah my money do the chit chat\n",
      "Like a mean bitch with shits\n",
      "Got that bite back\n",
      "Ion drink from a cup like where my sprite at\n",
      "Whitegold finish on my grills\n",
      "How i like that\n",
      "How i like that\n",
      "How i like that\n",
      "How i like that\n",
      "How i like that\n",
      "Pull up\n",
      "Flex\n",
      "Evolution stones look big on my neck\n",
      "Your baby hit my line\n",
      "She asked me to sext\n",
      "I told her ion do that\n",
      "I wasn’t impressed\n",
      "She sending me pics like exodia deck\n",
      "My niggas with the straps\n",
      "They falling for they trap cards\n",
      "Scales on my belt\n",
      "My shit look like Reptar\n",
      "Level up bitch\n",
      "EXP on my Nexon\n",
      "You can’t keep your lights on\n",
      "Oo\n",
      "Ay\n",
      "Get the fuck out my fucking face\n",
      "When i'm off the drugs i need my space\n",
      "Yeah she claim she love me\n",
      "Fuck in your place\n",
      "Scum just like my father\n",
      "Im such a waste\n",
      "Monsters on my wrist that Yokai\n",
      "Pop these pills like candy im so high\n",
      "Money bring me peace like bonsai\n",
      "Billy Eilish shit im the bad guy\n"
     ]
    }
   ],
   "source": [
    "from dotenv import load_dotenv\n",
    "import requests\n",
    "import os\n",
    "from bs4 import BeautifulSoup\n",
    "\n",
    "load_dotenv()\n",
    "\n",
    "API_TOKEN = os.getenv('client_access_token')\n",
    "BASE_URL = 'https://api.genius.com'\n",
    "\n",
    "\n",
    "def search_song(artist: str, title: str):\n",
    "    search_url = f\"{BASE_URL}/search\"\n",
    "    headers = {'Authorization': f'Bearer {API_TOKEN}'}\n",
    "    params = {'q': f\"{title} {artist}\"}\n",
    "    response = requests.get(search_url, headers=headers, params=params)\n",
    "    return response.json()\n",
    "\n",
    "# Function to get song lyrics\n",
    "def get_lyrics(song_api_path: str):\n",
    "    song_url = f\"{BASE_URL}{song_api_path}\"\n",
    "    headers = {'Authorization': f'Bearer {API_TOKEN}'}\n",
    "    response = requests.get(song_url, headers=headers)\n",
    "    json_response = response.json()\n",
    "    path = json_response['response']['song']['path']\n",
    "    \n",
    "    # Fetch the song lyrics from the Genius website (not directly available via API)\n",
    "    page_url = f\"https://genius.com{path}\"\n",
    "    page = requests.get(page_url)\n",
    "    soup = BeautifulSoup(page.text, 'html.parser')\n",
    "\n",
    "    # Find the lyrics container with the data-lyrics-container=\"true\" attribute\n",
    "    lyrics_div = soup.find('div', {'data-lyrics-container': 'true'})\n",
    "    lyrics = lyrics_div.get_text(separator='\\n') if lyrics_div else \"Lyrics not found.\"\n",
    "    return lyrics\n",
    "\n",
    "def get_lyrics_for_song(artist: str, title: str, iteration: int) -> str:\n",
    "    search_result = search_song(artist, title)\n",
    "    print(search_result)\n",
    "    if search_result['response']['hits']:\n",
    "        song_api_path = search_result['response']['hits'][0]['result']['api_path']\n",
    "        print(f\"{iteration} - FOUND - Title: {title} - Artist: {artist}\")\n",
    "        return get_lyrics(song_api_path)            \n",
    "    print(f\"{iteration} - FAIL - Title: {title} - Artist: {artist}\")\n",
    "    return None\n",
    "\n",
    "# iterating through the df in batches - something like 500 songs \n",
    "# throwing it at threads because its a task that can be perfectly threaded\n",
    "# saving the batches to save progress \n",
    "\n",
    "\n",
    "# debugging\n",
    "print(get_lyrics_for_song(\"bad guy\", \"billy ellish\", 4))\n"
   ]
  },
  {
   "cell_type": "code",
   "execution_count": null,
   "metadata": {},
   "outputs": [],
   "source": []
  }
 ],
 "metadata": {
  "kernelspec": {
   "display_name": "myenv",
   "language": "python",
   "name": "python3"
  },
  "language_info": {
   "codemirror_mode": {
    "name": "ipython",
    "version": 3
   },
   "file_extension": ".py",
   "mimetype": "text/x-python",
   "name": "python",
   "nbconvert_exporter": "python",
   "pygments_lexer": "ipython3",
   "version": "3.10.11"
  }
 },
 "nbformat": 4,
 "nbformat_minor": 2
}
