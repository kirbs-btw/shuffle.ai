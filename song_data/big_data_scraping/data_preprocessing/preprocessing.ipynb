{
 "cells": [
  {
   "cell_type": "markdown",
   "metadata": {},
   "source": [
    "# goal strukture \n",
    "\n",
    "# phase one: track_name, track_artist, id\n",
    "\n",
    "# phase two: track_name, track_artist, lyrics, id\n",
    "\n",
    "# phase three: track_name, track_artist, lyrics, embedding, id\n"
   ]
  },
  {
   "cell_type": "code",
   "execution_count": null,
   "metadata": {
    "vscode": {
     "languageId": "plaintext"
    }
   },
   "outputs": [],
   "source": [
    "# importing the raw data sets \n",
    "\n",
    "# cleaning them to only the two rows we care about \n",
    "\n",
    "# combining\n",
    "\n",
    "# del duplicates \n",
    "\n",
    "# stage one complete "
   ]
  }
 ],
 "metadata": {
  "language_info": {
   "name": "python"
  }
 },
 "nbformat": 4,
 "nbformat_minor": 2
}
