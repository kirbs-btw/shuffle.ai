{
 "cells": [
  {
   "cell_type": "markdown",
   "metadata": {},
   "source": [
    "# goal strukture \n",
    "\n",
    "## phase one: \n",
    ">track_name, track_artist, id\n",
    "\n",
    "## phase two: \n",
    ">track_name, track_artist, lyrics, id\n",
    "\n",
    "## phase three: \n",
    ">track_name, track_artist, lyrics, embedding, id\n"
   ]
  },
  {
   "cell_type": "code",
   "execution_count": 6,
   "metadata": {},
   "outputs": [],
   "source": [
    "import pandas as pd \n",
    "import numpy as np\n",
    "\n",
    "# importing the raw data sets \n",
    "\n",
    "df_MSSS = pd.read_csv(\"../raw_data/Most_Streamed_Spotify_Songs_2024.csv\", encoding='latin1')\n",
    "df_SMSD = pd.read_csv(\"../raw_data/spotify_millsongdata.csv\")\n",
    "df_SS = pd.read_csv(\"../raw_data/spotify_songs.csv\")\n",
    "\n",
    "# cleaning them to only the two rows we care about \n",
    "\n",
    "df_MSSS_reduced = df_MSSS[[\"Artist\", \"Track\"]].rename(columns={\"Artist\": \"track_artist\", \"Track\": \"track_name\"})\n",
    "df_SMSD_reduced = df_SMSD[[\"artist\", \"song\", \"text\"]].rename(columns={\"artist\": \"track_artist\", \"song\": \"track_name\", \"text\": \"track_lyrics\"}) # also has the text so here we are goingt to put the text from the stuff here already\n",
    "df_SS_reduced = df_SS[[\"track_name\", \"track_artist\"]]\n",
    "\n",
    "# combining\n",
    "\n",
    "# del duplicates \n",
    "\n",
    "# stage one complete "
   ]
  },
  {
   "cell_type": "code",
   "execution_count": null,
   "metadata": {},
   "outputs": [],
   "source": []
  }
 ],
 "metadata": {
  "kernelspec": {
   "display_name": "myenv",
   "language": "python",
   "name": "python3"
  },
  "language_info": {
   "codemirror_mode": {
    "name": "ipython",
    "version": 3
   },
   "file_extension": ".py",
   "mimetype": "text/x-python",
   "name": "python",
   "nbconvert_exporter": "python",
   "pygments_lexer": "ipython3",
   "version": "3.10.11"
  }
 },
 "nbformat": 4,
 "nbformat_minor": 2
}
