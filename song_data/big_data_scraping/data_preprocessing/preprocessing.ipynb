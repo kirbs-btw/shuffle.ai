{
 "cells": [
  {
   "cell_type": "markdown",
   "metadata": {},
   "source": [
    "# goal strukture \n",
    "\n",
    "## phase one: \n",
    ">track_name, track_artist, id\n",
    "\n",
    "## phase two: \n",
    ">track_name, track_artist, lyrics, id\n",
    "\n",
    "## phase three: \n",
    ">track_name, track_artist, lyrics, embedding, id\n"
   ]
  },
  {
   "cell_type": "code",
   "execution_count": 11,
   "metadata": {},
   "outputs": [
    {
     "name": "stderr",
     "output_type": "stream",
     "text": [
      "C:\\Users\\lipka\\AppData\\Local\\Temp\\ipykernel_17936\\2321887901.py:17: SettingWithCopyWarning: \n",
      "A value is trying to be set on a copy of a slice from a DataFrame.\n",
      "Try using .loc[row_indexer,col_indexer] = value instead\n",
      "\n",
      "See the caveats in the documentation: https://pandas.pydata.org/pandas-docs/stable/user_guide/indexing.html#returning-a-view-versus-a-copy\n",
      "  df_SS_reduced[\"track_lyrics\"] = None\n"
     ]
    }
   ],
   "source": [
    "import pandas as pd \n",
    "import numpy as np\n",
    "\n",
    "# importing the raw data sets \n",
    "\n",
    "df_MSSS = pd.read_csv(\"../raw_data/Most_Streamed_Spotify_Songs_2024.csv\", encoding='latin1')\n",
    "df_SMSD = pd.read_csv(\"../raw_data/spotify_millsongdata.csv\")\n",
    "df_SS = pd.read_csv(\"../raw_data/spotify_songs.csv\")\n",
    "\n",
    "# cleaning them to only the two rows we care about \n",
    "\n",
    "df_MSSS_reduced = df_MSSS[[\"Artist\", \"Track\"]].rename(columns={\"Artist\": \"track_artist\", \"Track\": \"track_name\"})\n",
    "df_MSSS_reduced[\"track_lyrics\"] = None\n",
    "\n",
    "df_SMSD_reduced = df_SMSD[[\"artist\", \"song\", \"text\"]].rename(columns={\"artist\": \"track_artist\", \"song\": \"track_name\", \"text\": \"track_lyrics\"}) # also has the text so here we are goingt to put the text from the stuff here already\n",
    "df_SS_reduced = df_SS[[\"track_name\", \"track_artist\"]]\n",
    "df_SS_reduced[\"track_lyrics\"] = None\n",
    "\n",
    "\n",
    "# combine dfs \n",
    "\n",
    "df_base = df_MSSS_reduced\n",
    "df_base = pd.concat([df_base, df_SMSD_reduced], ignore_index=True)\n",
    "df_base = pd.concat([df_base, df_SS_reduced], ignore_index=True)\n",
    "\n",
    "# del duplicates \n",
    "\n",
    "# if the \"track_name\" and \"track_artist\" are the same needs to be deleted\n",
    "\n",
    "# adding ids\n",
    "\n",
    "\n",
    "# stage one complete "
   ]
  },
  {
   "cell_type": "code",
   "execution_count": null,
   "metadata": {},
   "outputs": [],
   "source": []
  }
 ],
 "metadata": {
  "kernelspec": {
   "display_name": "myenv",
   "language": "python",
   "name": "python3"
  },
  "language_info": {
   "codemirror_mode": {
    "name": "ipython",
    "version": 3
   },
   "file_extension": ".py",
   "mimetype": "text/x-python",
   "name": "python",
   "nbconvert_exporter": "python",
   "pygments_lexer": "ipython3",
   "version": "3.10.11"
  }
 },
 "nbformat": 4,
 "nbformat_minor": 2
}
