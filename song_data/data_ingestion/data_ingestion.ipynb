{
 "cells": [
  {
   "cell_type": "markdown",
   "metadata": {},
   "source": [
    "# Ingesting the data into the VectorDB"
   ]
  },
  {
   "cell_type": "markdown",
   "metadata": {},
   "source": [
    "This notebook is just to get things started - don't want to use the Api latency when I can do it without it"
   ]
  },
  {
   "cell_type": "code",
   "execution_count": 1,
   "metadata": {},
   "outputs": [
    {
     "name": "stderr",
     "output_type": "stream",
     "text": [
      "c:\\Users\\lipka\\HARD_DRIVE\\Projekte\\Projekte\\Project 146\\current\\shuffle.ai\\myenv\\lib\\site-packages\\sentence_transformers\\cross_encoder\\CrossEncoder.py:11: TqdmWarning: IProgress not found. Please update jupyter and ipywidgets. See https://ipywidgets.readthedocs.io/en/stable/user_install.html\n",
      "  from tqdm.autonotebook import tqdm, trange\n"
     ]
    }
   ],
   "source": [
    "import numpy as np\n",
    "import pandas as pd\n",
    "from pymilvus import (\n",
    "    connections,\n",
    "    utility,\n",
    "    FieldSchema, \n",
    "    CollectionSchema, \n",
    "    DataType,\n",
    "    Collection,\n",
    ")\n",
    "from sentence_transformers import SentenceTransformer "
   ]
  },
  {
   "cell_type": "code",
   "execution_count": 14,
   "metadata": {},
   "outputs": [],
   "source": [
    "# get df\n",
    "df = pd.read_csv(\"../song_data.csv\")\n"
   ]
  },
  {
   "cell_type": "code",
   "execution_count": 4,
   "metadata": {},
   "outputs": [
    {
     "name": "stdout",
     "output_type": "stream",
     "text": [
      "---start connecting to Milvus---\n",
      "---created schema---\n",
      "---Create collection song_collection---\n"
     ]
    },
    {
     "data": {
      "text/plain": [
       "<Collection>:\n",
       "-------------\n",
       "<name>: song_collection\n",
       "<description>: a Collection to Store the Songs\n",
       "<schema>: {\n",
       "  auto_id: False\n",
       "  description: a Collection to Store the Songs\n",
       "  fields: [{\n",
       "    name: id\n",
       "    description: \n",
       "    type: 21\n",
       "    params: {'max_length': 64}\n",
       "    is_primary: True\n",
       "    auto_id: False\n",
       "  }, {\n",
       "    name: embeddings\n",
       "    description: \n",
       "    type: 101\n",
       "    params: {'dim': 384}\n",
       "  }]\n",
       "}"
      ]
     },
     "execution_count": 4,
     "metadata": {},
     "output_type": "execute_result"
    }
   ],
   "source": [
    "# setup milvus components\n",
    "\n",
    "def addCollection(collection_name):\n",
    "    version_name = collection_name\n",
    "    \n",
    "    dim = 384\n",
    "\n",
    "    print(\"---start connecting to Milvus---\")\n",
    "    connections.connect(\"default\", host=\"localhost\", port=\"19530\")\n",
    "\n",
    "    fields = [\n",
    "        FieldSchema(name=\"id\", dtype=DataType.VARCHAR, is_primary=True, auto_id=False, max_length=64),\n",
    "        FieldSchema(name=\"embeddings\", dtype=DataType.FLOAT_VECTOR, dim=dim)\n",
    "    ]\n",
    "\n",
    "    schema = CollectionSchema(fields, description=\"a Collection to Store the Songs\")\n",
    "    print(f\"---created schema---\")\n",
    "\n",
    "    print(f\"---Create collection {version_name}---\")\n",
    "    collection_milvus = Collection(version_name, schema, consistency_level=\"Strong\")\n",
    "    \n",
    "    return collection_milvus\n",
    "\n",
    "addCollection(\"song_collection\")"
   ]
  },
  {
   "cell_type": "code",
   "execution_count": 6,
   "metadata": {},
   "outputs": [],
   "source": [
    "model = SentenceTransformer('intfloat/multilingual-e5-small')"
   ]
  },
  {
   "cell_type": "code",
   "execution_count": 18,
   "metadata": {},
   "outputs": [
    {
     "name": "stdout",
     "output_type": "stream",
     "text": [
      "Unnamed: 0                                                                  0\n",
      "track_name                                                       Dance Monkey\n",
      "track_artist                                                      Tones and I\n",
      "track_popularity                                                          100\n",
      "track_album_name                  Dance Monkey (Stripped Back) / Dance Monkey\n",
      "track_album_release_date                                           2019-10-17\n",
      "playlist_genre                                                          latin\n",
      "duration_ms                                                            209438\n",
      "lyrics                      [Verse 1]\\nThey say, \"Oh my god, I see the way...\n",
      "track_id                                 7188d3af-ebc1-431e-b181-c5b27bd81f6a\n",
      "Name: 0, dtype: object\n",
      "Unnamed: 0                                                                  1\n",
      "track_name                                                            ROXANNE\n",
      "track_artist                                                   Arizona Zervas\n",
      "track_popularity                                                           99\n",
      "track_album_name                                                      ROXANNE\n",
      "track_album_release_date                                           2019-10-10\n",
      "playlist_genre                                                            r&b\n",
      "duration_ms                                                            163636\n",
      "lyrics                      [Intro]\\nAll for the 'Gram\\nBitches love the '...\n",
      "track_id                                 ba6cf733-0155-4005-a347-07bff6498c58\n",
      "Name: 1, dtype: object\n",
      "Unnamed: 0                                                                  2\n",
      "track_name                                                    Blinding Lights\n",
      "track_artist                                                       The Weeknd\n",
      "track_popularity                                                           98\n",
      "track_album_name                                              Blinding Lights\n",
      "track_album_release_date                                           2019-11-29\n",
      "playlist_genre                                                          latin\n",
      "duration_ms                                                            201573\n",
      "lyrics                      [Intro]\\nYeah\\n[Verse 1]\\nI've been tryna call...\n",
      "track_id                                 9ea810d2-de74-4e35-918a-e64816148a86\n",
      "Name: 2, dtype: object\n",
      "Unnamed: 0                                                                  3\n",
      "track_name                                                            Circles\n",
      "track_artist                                                      Post Malone\n",
      "track_popularity                                                           98\n",
      "track_album_name                                         Hollywood's Bleeding\n",
      "track_album_release_date                                           2019-09-06\n",
      "playlist_genre                                                            pop\n",
      "duration_ms                                                            215280\n",
      "lyrics                      [Intro]\\nOh, oh, oh\\nOh,  oh, oh\\nOh,  oh, oh,...\n",
      "track_id                                 0a2cc686-4fef-4f14-9e22-36cbafdf0a12\n",
      "Name: 3, dtype: object\n",
      "Unnamed: 0                                                                  4\n",
      "track_name                                                               Tusa\n",
      "track_artist                                                          KAROL G\n",
      "track_popularity                                                           98\n",
      "track_album_name                                                         Tusa\n",
      "track_album_release_date                                           2019-11-07\n",
      "playlist_genre                                                            rap\n",
      "duration_ms                                                            200960\n",
      "lyrics                      11/1\\nAlan Walker - \\n\"Avem (The Aviation Them...\n",
      "track_id                                 4639949c-65d1-45f8-8071-445fe5a9a227\n",
      "Name: 4, dtype: object\n",
      "Unnamed: 0                                                                  5\n",
      "track_name                                                            The Box\n",
      "track_artist                                                      Roddy Ricch\n",
      "track_popularity                                                           98\n",
      "track_album_name                        Please Excuse Me For Being Antisocial\n",
      "track_album_release_date                                           2019-12-06\n",
      "playlist_genre                                                            rap\n",
      "duration_ms                                                            196653\n",
      "lyrics                      [Chorus]\\nPullin' out the coupe at the lot\\nTo...\n",
      "track_id                                 08fa4df6-d8dd-467e-8983-25bfbb10b6f7\n",
      "Name: 5, dtype: object\n",
      "Unnamed: 0                                                                  6\n",
      "track_name                                                           Memories\n",
      "track_artist                                                         Maroon 5\n",
      "track_popularity                                                           98\n",
      "track_album_name                                                     Memories\n",
      "track_album_release_date                                           2019-09-20\n",
      "playlist_genre                                                          latin\n",
      "duration_ms                                                            189486\n",
      "lyrics                      [Chorus]\\nHere's to the ones that we got\\nChee...\n",
      "track_id                                 90ec806b-56e3-4461-a629-535dbda97c87\n",
      "Name: 6, dtype: object\n",
      "---Start Creating index IVF_FLAT---\n",
      "---ingested data---\n"
     ]
    }
   ],
   "source": [
    "\n",
    "def ingestData():\n",
    "    connections.connect(\"default\", host=\"localhost\", port=\"19530\")\n",
    "\n",
    "    collection_milvus = Collection(name=\"song_collection\") \n",
    "\n",
    "    model = SentenceTransformer('intfloat/multilingual-e5-small')\n",
    "\n",
    "    stop = 0\n",
    "\n",
    "    for index, row in df.iterrows():\n",
    "        lyrics = row['lyrics']\n",
    "        id = row['track_id']\n",
    "\n",
    "        embedding = model.encode(lyrics)\n",
    "\n",
    "        entities = [\n",
    "            [id], \n",
    "            [embedding]\n",
    "        ]   \n",
    "\n",
    "        collection_milvus.insert(entities)\n",
    "\n",
    "        print(row)\n",
    "\n",
    "        if stop > 5:\n",
    "            break\n",
    "        stop += 1\n",
    "\n",
    "    print(\"---Start Creating index IVF_FLAT---\")\n",
    "    index = {\n",
    "        \"index_type\": \"IVF_FLAT\",\n",
    "        \"metric_type\": \"L2\",\n",
    "        \"params\": {\"nlist\": 128},\n",
    "    }\n",
    "\n",
    "    collection_milvus.create_index(\"embeddings\", index)\n",
    "\n",
    "    print(\"---ingested data---\")\n",
    "\n",
    "\n",
    "ingestData()\n"
   ]
  },
  {
   "cell_type": "code",
   "execution_count": 27,
   "metadata": {},
   "outputs": [
    {
     "name": "stdout",
     "output_type": "stream",
     "text": [
      "---testing collection search---\n",
      "---loading in collection---\n",
      "---Start searching based on vector similarity---\n",
      "hit: id: 90ec806b-56e3-4461-a629-535dbda97c87, distance: 0.3806748390197754, entity: {'id': '90ec806b-56e3-4461-a629-535dbda97c87'}\n",
      "------------\n",
      "hit: id: 0a2cc686-4fef-4f14-9e22-36cbafdf0a12, distance: 0.3866581320762634, entity: {'id': '0a2cc686-4fef-4f14-9e22-36cbafdf0a12'}\n",
      "------------\n",
      "hit: id: 7188d3af-ebc1-431e-b181-c5b27bd81f6a, distance: 0.3926306366920471, entity: {'id': '7188d3af-ebc1-431e-b181-c5b27bd81f6a'}\n",
      "------------\n"
     ]
    }
   ],
   "source": [
    "def test_index():\n",
    "    print(\"---testing collection search---\")\n",
    "    print(\"---loading in collection---\")\n",
    "    connections.connect(\"default\", host=\"localhost\", port=\"19530\")\n",
    "\n",
    "    collection_milvus = Collection(name=\"song_collection\") \n",
    "    # asking milvus\n",
    "\n",
    "    collection_milvus.load()\n",
    "    \n",
    "    # model = SentenceTransformer('distilbert-base-nli-mean-tokens')\n",
    "    model = SentenceTransformer('intfloat/multilingual-e5-small')\n",
    "    \n",
    "    question_embedding = model.encode([\" The song is based on the loss of the band's manager and Levine's friend, Jordan Feldstein who died in December 2017, from pulmonary embolism\"])\n",
    "\n",
    "    print(\"---Start searching based on vector similarity---\")\n",
    "\n",
    "    search_params = {\n",
    "        \"metric_type\": \"L2\",\n",
    "        \"params\": {\"nprobe\": 10},\n",
    "    }\n",
    "\n",
    "    result = collection_milvus.search(question_embedding, \"embeddings\", search_params, limit=3, output_fields=[\"id\"])\n",
    "\n",
    "    for hits in result:\n",
    "        for hit in hits:\n",
    "            print(f\"hit: {hit}\")\n",
    "            print(\"------------\")\n",
    "\n",
    "test_index()"
   ]
  },
  {
   "cell_type": "code",
   "execution_count": null,
   "metadata": {},
   "outputs": [],
   "source": [
    "# tested a bit around with searching the songs with some sense description and had good results"
   ]
  }
 ],
 "metadata": {
  "kernelspec": {
   "display_name": "Python 3",
   "language": "python",
   "name": "python3"
  },
  "language_info": {
   "codemirror_mode": {
    "name": "ipython",
    "version": 3
   },
   "file_extension": ".py",
   "mimetype": "text/x-python",
   "name": "python",
   "nbconvert_exporter": "python",
   "pygments_lexer": "ipython3",
   "version": "3.10.11"
  }
 },
 "nbformat": 4,
 "nbformat_minor": 2
}
