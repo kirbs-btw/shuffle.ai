{
 "cells": [
  {
   "cell_type": "markdown",
   "metadata": {},
   "source": [
    "# Ingesting the data into the VectorDB"
   ]
  },
  {
   "cell_type": "markdown",
   "metadata": {},
   "source": [
    "This notebook is just to get things started - don't want to use the Api latency when I can do it without it"
   ]
  },
  {
   "cell_type": "code",
   "execution_count": 1,
   "metadata": {},
   "outputs": [
    {
     "name": "stderr",
     "output_type": "stream",
     "text": [
      "c:\\Users\\lipka\\HARD_DRIVE\\Projekte\\Projekte\\Project 146\\current\\shuffle.ai\\myenv\\lib\\site-packages\\sentence_transformers\\cross_encoder\\CrossEncoder.py:11: TqdmWarning: IProgress not found. Please update jupyter and ipywidgets. See https://ipywidgets.readthedocs.io/en/stable/user_install.html\n",
      "  from tqdm.autonotebook import tqdm, trange\n"
     ]
    }
   ],
   "source": [
    "import numpy as np\n",
    "import pandas as pd\n",
    "from pymilvus import (\n",
    "    connections,\n",
    "    utility,\n",
    "    FieldSchema, \n",
    "    CollectionSchema, \n",
    "    DataType,\n",
    "    Collection,\n",
    ")\n",
    "from sentence_transformers import SentenceTransformer "
   ]
  },
  {
   "cell_type": "code",
   "execution_count": 3,
   "metadata": {},
   "outputs": [],
   "source": [
    "# get df\n",
    "df = pd.read_csv(\"../song_data.csv\")\n"
   ]
  },
  {
   "cell_type": "code",
   "execution_count": 4,
   "metadata": {},
   "outputs": [
    {
     "name": "stdout",
     "output_type": "stream",
     "text": [
      "---start connecting to Milvus---\n",
      "---created schema---\n",
      "---Create collection song_collection---\n"
     ]
    },
    {
     "data": {
      "text/plain": [
       "<Collection>:\n",
       "-------------\n",
       "<name>: song_collection\n",
       "<description>: a Collection to Store the Songs\n",
       "<schema>: {\n",
       "  auto_id: False\n",
       "  description: a Collection to Store the Songs\n",
       "  fields: [{\n",
       "    name: id\n",
       "    description: \n",
       "    type: 21\n",
       "    params: {'max_length': 64}\n",
       "    is_primary: True\n",
       "    auto_id: False\n",
       "  }, {\n",
       "    name: embeddings\n",
       "    description: \n",
       "    type: 101\n",
       "    params: {'dim': 384}\n",
       "  }]\n",
       "}"
      ]
     },
     "execution_count": 4,
     "metadata": {},
     "output_type": "execute_result"
    }
   ],
   "source": [
    "# setup milvus components\n",
    "\n",
    "def addCollection(collection_name):\n",
    "    version_name = collection_name\n",
    "    \n",
    "    dim = 384\n",
    "\n",
    "    print(\"---start connecting to Milvus---\")\n",
    "    connections.connect(\"default\", host=\"localhost\", port=\"19530\")\n",
    "\n",
    "    fields = [\n",
    "        FieldSchema(name=\"id\", dtype=DataType.VARCHAR, is_primary=True, auto_id=False, max_length=64),\n",
    "        FieldSchema(name=\"embeddings\", dtype=DataType.FLOAT_VECTOR, dim=dim)\n",
    "    ]\n",
    "\n",
    "    schema = CollectionSchema(fields, description=\"a Collection to Store the Songs\")\n",
    "    print(f\"---created schema---\")\n",
    "\n",
    "    print(f\"---Create collection {version_name}---\")\n",
    "    collection_milvus = Collection(version_name, schema, consistency_level=\"Strong\")\n",
    "    \n",
    "    return collection_milvus\n",
    "\n",
    "addCollection(\"song_collection\")\n",
    "\n",
    "\n"
   ]
  },
  {
   "cell_type": "code",
   "execution_count": null,
   "metadata": {},
   "outputs": [],
   "source": []
  }
 ],
 "metadata": {
  "kernelspec": {
   "display_name": "Python 3",
   "language": "python",
   "name": "python3"
  },
  "language_info": {
   "codemirror_mode": {
    "name": "ipython",
    "version": 3
   },
   "file_extension": ".py",
   "mimetype": "text/x-python",
   "name": "python",
   "nbconvert_exporter": "python",
   "pygments_lexer": "ipython3",
   "version": "3.10.11"
  }
 },
 "nbformat": 4,
 "nbformat_minor": 2
}
